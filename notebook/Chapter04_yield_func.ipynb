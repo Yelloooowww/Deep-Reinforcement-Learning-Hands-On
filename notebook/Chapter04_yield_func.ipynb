{
 "cells": [
  {
   "cell_type": "markdown",
   "metadata": {},
   "source": [
    "## python generator object\n",
    "### 關鍵字 (keyword) yield 用在函數中對呼叫方產生數值，這是說函數 (function) 若使用 yield 產生數值的話，函數會回傳一個產生器 (generator) 物件 (object) ，可由 __next__() 方法 (method) 或內建函數 (built-in function) next() 依序取得 yield 產生的數值，注意 __next__() 方法前後被兩條底線包圍。這樣的執行方式，就好像呼叫函數後，函數並不會立即直接結束，而是與呼叫方同時執行的。"
   ]
  },
  {
   "cell_type": "markdown",
   "metadata": {},
   "source": [
    "### 先來看個簡單的例子，函數 yield5() 只有簡單利用關鍵字 yield 產生整數 5 ，變數 (variable) a 會取得 yield5() 回傳的產生器物件，然後利用內建函數 next() 先取得變數 a 產生的第一個數值，就是整數 5 ，再用 next() 一次，結果發生 StopIteration 的錯誤，因為變數 a 中已經沒有數值可以產生了"
   ]
  },
  {
   "cell_type": "code",
   "execution_count": 4,
   "metadata": {},
   "outputs": [
    {
     "name": "stdout",
     "output_type": "stream",
     "text": [
      "5\n"
     ]
    },
    {
     "ename": "StopIteration",
     "evalue": "",
     "output_type": "error",
     "traceback": [
      "\u001b[0;31m---------------------------------------------------------------------------\u001b[0m",
      "\u001b[0;31mStopIteration\u001b[0m                             Traceback (most recent call last)",
      "\u001b[0;32m<ipython-input-4-4ab0975be1e5>\u001b[0m in \u001b[0;36m<module>\u001b[0;34m\u001b[0m\n\u001b[1;32m      4\u001b[0m \u001b[0ma\u001b[0m \u001b[0;34m=\u001b[0m \u001b[0myield5\u001b[0m\u001b[0;34m(\u001b[0m\u001b[0;34m)\u001b[0m\u001b[0;34m\u001b[0m\u001b[0;34m\u001b[0m\u001b[0m\n\u001b[1;32m      5\u001b[0m \u001b[0mprint\u001b[0m\u001b[0;34m(\u001b[0m\u001b[0mnext\u001b[0m\u001b[0;34m(\u001b[0m\u001b[0ma\u001b[0m\u001b[0;34m)\u001b[0m\u001b[0;34m)\u001b[0m\u001b[0;34m\u001b[0m\u001b[0;34m\u001b[0m\u001b[0m\n\u001b[0;32m----> 6\u001b[0;31m \u001b[0mprint\u001b[0m\u001b[0;34m(\u001b[0m\u001b[0mnext\u001b[0m\u001b[0;34m(\u001b[0m\u001b[0ma\u001b[0m\u001b[0;34m)\u001b[0m\u001b[0;34m)\u001b[0m\u001b[0;34m\u001b[0m\u001b[0;34m\u001b[0m\u001b[0m\n\u001b[0m",
      "\u001b[0;31mStopIteration\u001b[0m: "
     ]
    }
   ],
   "source": [
    "def yield5():\n",
    "    yield 5\n",
    "\n",
    "a = yield5()\n",
    "print(next(a))\n",
    "print(next(a))"
   ]
  },
  {
   "cell_type": "markdown",
   "metadata": {},
   "source": [
    "### 再來用 new_range() 簡單模擬內建函數 range() 的效果，此例變數 b 會是具有從 0 到 9 的產生器物件，這邊用內建函數 next() 取得變數 b 產生的整數兩次"
   ]
  },
  {
   "cell_type": "code",
   "execution_count": 8,
   "metadata": {},
   "outputs": [
    {
     "name": "stdout",
     "output_type": "stream",
     "text": [
      "***0\n",
      "^^^***1\n"
     ]
    }
   ],
   "source": [
    "def new_range(n):\n",
    "    i = 0\n",
    "    while i < n:\n",
    "        print('***',end=\"\")\n",
    "        yield i\n",
    "        print('^^^',end=\"\")\n",
    "        i += 1\n",
    "\n",
    "b = new_range(10)\n",
    "print(next(b))\n",
    "print(next(b))"
   ]
  },
  {
   "cell_type": "markdown",
   "metadata": {},
   "source": [
    "### 用 for 迴圈 (loop) 可以印出 new_range() 產生的所有整數，例如"
   ]
  },
  {
   "cell_type": "code",
   "execution_count": 10,
   "metadata": {},
   "outputs": [
    {
     "name": "stdout",
     "output_type": "stream",
     "text": [
      "***0\n",
      "^^^***1\n",
      "^^^***2\n",
      "^^^***3\n",
      "^^^***4\n",
      "^^^***5\n",
      "^^^***6\n",
      "^^^***7\n",
      "^^^***8\n",
      "^^^***9\n",
      "^^^"
     ]
    }
   ],
   "source": [
    "for i in new_range(10):\n",
    "    print(i)"
   ]
  },
  {
   "cell_type": "markdown",
   "metadata": {},
   "source": [
    "### 函數用 return 跟 yield 有什麼不同呢？這裡的 fib2() 函數用 yield 產生費氏數列，相同參數得到的結果跟 fib() 一樣，差別是 fib2() 回傳的是產生器物件，而非串列，利用產生器物件的好處是節省記憶體空間，並且提升程式執行的效率，這優點在資料量極少的情況下看不出來，可是一旦資料量暴增，例如串列中需要儲存數十到數百萬筆資料的時候，相對產生器物件需要的記憶體空間就相當少，所以當資料是依序計算取得的話，利用產生器物件就比較適合"
   ]
  },
  {
   "cell_type": "code",
   "execution_count": 1,
   "metadata": {},
   "outputs": [
    {
     "name": "stdout",
     "output_type": "stream",
     "text": [
      "[1, 1, 2, 3, 5, 8, 13, 21, 34, 55]\n"
     ]
    }
   ],
   "source": [
    "def fib(n):\n",
    "    L = []\n",
    "    i, a, b = 0, 0, 1\n",
    "    while i < n:\n",
    "        L.append(b)\n",
    "        a, b = b, a + b\n",
    "        i += 1\n",
    "    \n",
    "    return L\n",
    "\n",
    "print(fib(10))"
   ]
  },
  {
   "cell_type": "code",
   "execution_count": 15,
   "metadata": {},
   "outputs": [
    {
     "name": "stdout",
     "output_type": "stream",
     "text": [
      "<generator object fib2 at 0x7f031c1ff1a8>\n",
      "1 1 2 3 5 8 13 21 34 55 ----------\n",
      "1 1 2 3 5 8 13 21 34 55 "
     ]
    }
   ],
   "source": [
    "def fib2(n):\n",
    "    i, a, b = 0, 0, 1\n",
    "    while True:\n",
    "        if n <= 0 or i == n:\n",
    "            break\n",
    "        a, b = b, a + b\n",
    "        yield a\n",
    "        i += 1\n",
    "\n",
    "d = fib2(10)\n",
    "print(fib2(10))\n",
    "for i in d:\n",
    "    print(i,end=\" \")\n",
    "\n",
    "print('-'*10)\n",
    "\n",
    "for i in fib2(10):\n",
    "    print(i,end=\" \")"
   ]
  },
  {
   "cell_type": "code",
   "execution_count": null,
   "metadata": {},
   "outputs": [],
   "source": []
  },
  {
   "cell_type": "code",
   "execution_count": null,
   "metadata": {},
   "outputs": [],
   "source": []
  },
  {
   "cell_type": "code",
   "execution_count": null,
   "metadata": {},
   "outputs": [],
   "source": []
  },
  {
   "cell_type": "code",
   "execution_count": null,
   "metadata": {},
   "outputs": [],
   "source": []
  },
  {
   "cell_type": "code",
   "execution_count": null,
   "metadata": {},
   "outputs": [],
   "source": []
  },
  {
   "cell_type": "code",
   "execution_count": null,
   "metadata": {},
   "outputs": [],
   "source": []
  },
  {
   "cell_type": "code",
   "execution_count": null,
   "metadata": {},
   "outputs": [],
   "source": []
  },
  {
   "cell_type": "code",
   "execution_count": null,
   "metadata": {},
   "outputs": [],
   "source": []
  },
  {
   "cell_type": "code",
   "execution_count": null,
   "metadata": {},
   "outputs": [],
   "source": []
  },
  {
   "cell_type": "code",
   "execution_count": null,
   "metadata": {},
   "outputs": [],
   "source": []
  },
  {
   "cell_type": "code",
   "execution_count": null,
   "metadata": {},
   "outputs": [],
   "source": []
  }
 ],
 "metadata": {
  "kernelspec": {
   "display_name": "Python 3",
   "language": "python",
   "name": "python3"
  },
  "language_info": {
   "codemirror_mode": {
    "name": "ipython",
    "version": 3
   },
   "file_extension": ".py",
   "mimetype": "text/x-python",
   "name": "python",
   "nbconvert_exporter": "python",
   "pygments_lexer": "ipython3",
   "version": "3.6.9"
  }
 },
 "nbformat": 4,
 "nbformat_minor": 4
}
