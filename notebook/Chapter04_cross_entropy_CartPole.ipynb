{
 "cells": [
  {
   "cell_type": "markdown",
   "metadata": {},
   "source": [
    "## cross-entropy\n",
    "### cross-entropy 方法是 policy-based，由非線性函數(NN)來產生policy\n",
    "\n",
    "### cross-entropy的核心是丟棄不好的Episode，並訓練出更好的Episode\n",
    "### step :\n",
    "#### 1.使用我們現有的模型和環境執行N個Episode\n",
    "#### 2.計算每個Episode的total reward並決定reward boundary。通常使用total reward的百分數當做reward boundary。\n",
    "#### 3.丟棄total reward低於reward boundary的Episode。\n",
    "#### 4.使用observation當作input，訓練剩餘的\"精英Episode\"，並已選用的action當作輸出。\n",
    "#### 5.回到step1，直到我們對輸出結果滿意為止。"
   ]
  },
  {
   "cell_type": "code",
   "execution_count": 1,
   "metadata": {},
   "outputs": [],
   "source": [
    "import gym\n",
    "from collections import namedtuple\n",
    "import numpy as np\n",
    "from tensorboardX import SummaryWriter\n",
    "\n",
    "import torch\n",
    "import torch.nn as nn\n",
    "import torch.optim as optim"
   ]
  },
  {
   "cell_type": "markdown",
   "metadata": {},
   "source": [
    "### 模型的核心是個單hidden layer的NN，具有ReLU和128個\"單hidden layer神經元\"。\n",
    "### 其他hyper param. 是隨機設定並不做校正。\n",
    "\n",
    "### hidden layer的神經元數量,每次迭代的Episode數量，過濾\"精英Episode\"的百分數"
   ]
  },
  {
   "cell_type": "code",
   "execution_count": 2,
   "metadata": {},
   "outputs": [],
   "source": [
    "HIDDEN_SIZE = 128\n",
    "BATCH_SIZE = 16\n",
    "PERCENTILE = 70"
   ]
  },
  {
   "cell_type": "code",
   "execution_count": 3,
   "metadata": {},
   "outputs": [],
   "source": [
    "class Net(nn.Module):\n",
    "    def __init__(self, obs_size, hidden_size, n_actions):\n",
    "        super(Net, self).__init__()\n",
    "        self.net = nn.Sequential(\n",
    "            nn.Linear(obs_size, hidden_size),\n",
    "            nn.ReLU(),\n",
    "            nn.Linear(hidden_size, n_actions)\n",
    "        )\n",
    "\n",
    "    def forward(self, x):\n",
    "        return self.net(x)"
   ]
  },
  {
   "cell_type": "markdown",
   "metadata": {},
   "source": [
    "## 定義以下helper class，他們用標準套件collections中的namedtuple類別來產生named tuple(具名常數串列)"
   ]
  },
  {
   "cell_type": "code",
   "execution_count": 4,
   "metadata": {},
   "outputs": [],
   "source": [
    "Episode = namedtuple('Episode', field_names=['reward', 'steps'])\n",
    "EpisodeStep = namedtuple('EpisodeStep', field_names=['observation', 'action'])"
   ]
  },
  {
   "cell_type": "code",
   "execution_count": 5,
   "metadata": {},
   "outputs": [],
   "source": [
    "def iterate_batches(env, net, batch_size):\n",
    "    batch = []\n",
    "    episode_reward = 0.0\n",
    "    episode_steps = []\n",
    "    obs = env.reset()\n",
    "    sm = nn.Softmax(dim=1)\n",
    "    while True:\n",
    "        obs_v = torch.FloatTensor([obs])\n",
    "        act_probs_v = sm(net(obs_v))\n",
    "        act_probs = act_probs_v.data.numpy()[0]\n",
    "        action = np.random.choice(len(act_probs), p=act_probs)\n",
    "        next_obs, reward, is_done, _ = env.step(action)\n",
    "        episode_reward += reward\n",
    "        episode_steps.append(EpisodeStep(observation=obs, action=action))\n",
    "        if is_done:\n",
    "            batch.append(Episode(reward=episode_reward, steps=episode_steps))\n",
    "            episode_reward = 0.0\n",
    "            episode_steps = []\n",
    "            next_obs = env.reset()\n",
    "            if len(batch) == batch_size:\n",
    "                yield batch\n",
    "                batch = []\n",
    "        obs = next_obs"
   ]
  },
  {
   "cell_type": "code",
   "execution_count": 6,
   "metadata": {},
   "outputs": [],
   "source": [
    "def filter_batch(batch, percentile):\n",
    "    rewards = list(map(lambda s: s.reward, batch))\n",
    "    reward_bound = np.percentile(rewards, percentile)\n",
    "    reward_mean = float(np.mean(rewards))\n",
    "\n",
    "    train_obs = []\n",
    "    train_act = []\n",
    "    for example in batch:\n",
    "        if example.reward < reward_bound:\n",
    "            continue\n",
    "        train_obs.extend(map(lambda step: step.observation, example.steps))\n",
    "        train_act.extend(map(lambda step: step.action, example.steps))\n",
    "\n",
    "    train_obs_v = torch.FloatTensor(train_obs)\n",
    "    train_act_v = torch.LongTensor(train_act)\n",
    "    return train_obs_v, train_act_v, reward_bound, reward_mean"
   ]
  },
  {
   "cell_type": "markdown",
   "metadata": {},
   "source": [
    "### start training"
   ]
  },
  {
   "cell_type": "code",
   "execution_count": 8,
   "metadata": {},
   "outputs": [
    {
     "name": "stdout",
     "output_type": "stream",
     "text": [
      "0: loss=0.688, reward_mean=20.5, reward_bound=25.5\n",
      "1: loss=0.668, reward_mean=29.4, reward_bound=31.5\n",
      "2: loss=0.654, reward_mean=33.6, reward_bound=42.5\n",
      "3: loss=0.654, reward_mean=43.2, reward_bound=50.0\n",
      "4: loss=0.650, reward_mean=37.9, reward_bound=42.0\n",
      "5: loss=0.647, reward_mean=45.8, reward_bound=47.0\n",
      "6: loss=0.635, reward_mean=48.6, reward_bound=61.5\n",
      "7: loss=0.629, reward_mean=53.7, reward_bound=61.5\n",
      "8: loss=0.619, reward_mean=52.8, reward_bound=66.5\n",
      "9: loss=0.612, reward_mean=45.1, reward_bound=53.0\n",
      "10: loss=0.602, reward_mean=59.9, reward_bound=69.5\n",
      "11: loss=0.609, reward_mean=67.6, reward_bound=70.0\n",
      "12: loss=0.587, reward_mean=85.4, reward_bound=96.0\n",
      "13: loss=0.598, reward_mean=66.2, reward_bound=65.0\n",
      "14: loss=0.591, reward_mean=77.8, reward_bound=97.0\n",
      "15: loss=0.584, reward_mean=104.8, reward_bound=123.0\n",
      "16: loss=0.569, reward_mean=86.1, reward_bound=115.0\n",
      "17: loss=0.585, reward_mean=102.2, reward_bound=120.0\n",
      "18: loss=0.582, reward_mean=89.4, reward_bound=107.0\n",
      "19: loss=0.577, reward_mean=98.5, reward_bound=113.5\n",
      "20: loss=0.574, reward_mean=106.2, reward_bound=108.0\n",
      "21: loss=0.584, reward_mean=90.6, reward_bound=95.0\n",
      "22: loss=0.567, reward_mean=108.9, reward_bound=125.5\n",
      "23: loss=0.544, reward_mean=123.9, reward_bound=133.5\n",
      "24: loss=0.560, reward_mean=140.4, reward_bound=162.0\n",
      "25: loss=0.552, reward_mean=116.4, reward_bound=137.0\n",
      "26: loss=0.547, reward_mean=115.8, reward_bound=134.0\n",
      "27: loss=0.538, reward_mean=129.5, reward_bound=154.0\n",
      "28: loss=0.524, reward_mean=134.4, reward_bound=170.5\n",
      "29: loss=0.542, reward_mean=141.7, reward_bound=171.5\n",
      "30: loss=0.536, reward_mean=151.6, reward_bound=173.5\n",
      "31: loss=0.534, reward_mean=168.4, reward_bound=200.0\n",
      "32: loss=0.532, reward_mean=165.7, reward_bound=200.0\n",
      "33: loss=0.529, reward_mean=159.7, reward_bound=200.0\n",
      "34: loss=0.527, reward_mean=159.9, reward_bound=200.0\n",
      "35: loss=0.515, reward_mean=156.6, reward_bound=200.0\n",
      "36: loss=0.521, reward_mean=166.1, reward_bound=200.0\n",
      "37: loss=0.515, reward_mean=144.4, reward_bound=167.0\n",
      "38: loss=0.527, reward_mean=176.6, reward_bound=200.0\n",
      "39: loss=0.530, reward_mean=182.1, reward_bound=200.0\n",
      "40: loss=0.518, reward_mean=183.9, reward_bound=200.0\n",
      "41: loss=0.524, reward_mean=175.5, reward_bound=200.0\n",
      "42: loss=0.515, reward_mean=181.7, reward_bound=200.0\n",
      "43: loss=0.523, reward_mean=191.2, reward_bound=200.0\n",
      "44: loss=0.517, reward_mean=195.9, reward_bound=200.0\n",
      "45: loss=0.510, reward_mean=195.2, reward_bound=200.0\n",
      "46: loss=0.530, reward_mean=200.0, reward_bound=200.0\n",
      "Solved!\n"
     ]
    }
   ],
   "source": [
    "env = gym.make(\"CartPole-v0\")\n",
    "env = gym.wrappers.Monitor(env, directory=\"mon\", force=True)\n",
    "obs_size = env.observation_space.shape[0]\n",
    "n_actions = env.action_space.n\n",
    "\n",
    "net = Net(obs_size, HIDDEN_SIZE, n_actions)\n",
    "objective = nn.CrossEntropyLoss()\n",
    "optimizer = optim.Adam(params=net.parameters(), lr=0.01)\n",
    "writer = SummaryWriter(comment=\"-cartpole\")\n",
    "\n",
    "for iter_no, batch in enumerate(iterate_batches(env, net, BATCH_SIZE)):\n",
    "    obs_v, acts_v, reward_b, reward_m = filter_batch(batch, PERCENTILE)\n",
    "    optimizer.zero_grad()\n",
    "    action_scores_v = net(obs_v)\n",
    "    loss_v = objective(action_scores_v, acts_v)\n",
    "    loss_v.backward()\n",
    "    optimizer.step()\n",
    "    print(\"%d: loss=%.3f, reward_mean=%.1f, reward_bound=%.1f\" % (\n",
    "        iter_no, loss_v.item(), reward_m, reward_b))\n",
    "    writer.add_scalar(\"loss\", loss_v.item(), iter_no)\n",
    "    writer.add_scalar(\"reward_bound\", reward_b, iter_no)\n",
    "    writer.add_scalar(\"reward_mean\", reward_m, iter_no)\n",
    "    if reward_m > 199:\n",
    "        print(\"Solved!\")\n",
    "        break\n",
    "writer.close()"
   ]
  }
 ],
 "metadata": {
  "kernelspec": {
   "display_name": "Python 3",
   "language": "python",
   "name": "python3"
  },
  "language_info": {
   "codemirror_mode": {
    "name": "ipython",
    "version": 3
   },
   "file_extension": ".py",
   "mimetype": "text/x-python",
   "name": "python",
   "nbconvert_exporter": "python",
   "pygments_lexer": "ipython3",
   "version": "3.6.9"
  }
 },
 "nbformat": 4,
 "nbformat_minor": 4
}
